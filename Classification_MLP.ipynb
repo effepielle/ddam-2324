{
 "cells": [
  {
   "cell_type": "code",
   "execution_count": 1,
   "metadata": {},
   "outputs": [],
   "source": [
    "from pyspark.sql import SQLContext, SparkSession\n",
    "from pyspark.ml.feature import StringIndexer\n",
    "from pyspark.ml.feature import VectorAssembler\n",
    "from pyspark.sql.functions import when, col, count\n",
    "import matplotlib.pyplot as plt\n",
    "import seaborn as sns\n",
    "from pyspark.ml.tuning import CrossValidator, ParamGridBuilder\n",
    "from pyspark.ml.classification import MultilayerPerceptronClassifier\n",
    "from pyspark.ml.evaluation import MulticlassClassificationEvaluator\n",
    "from pyspark.mllib.evaluation import MulticlassMetrics\n",
    "import pandas as pd"
   ]
  },
  {
   "cell_type": "code",
   "execution_count": 2,
   "metadata": {},
   "outputs": [
    {
     "name": "stderr",
     "output_type": "stream",
     "text": [
      "your 131072x1 screen size is bogus. expect trouble\n",
      "24/05/29 10:47:38 WARN Utils: Your hostname, LAPTOP-HBLRDRME resolves to a loopback address: 127.0.1.1; using 172.17.184.243 instead (on interface eth0)\n",
      "24/05/29 10:47:38 WARN Utils: Set SPARK_LOCAL_IP if you need to bind to another address\n",
      "Setting default log level to \"WARN\".\n",
      "To adjust logging level use sc.setLogLevel(newLevel). For SparkR, use setLogLevel(newLevel).\n",
      "24/05/29 10:47:40 WARN NativeCodeLoader: Unable to load native-hadoop library for your platform... using builtin-java classes where applicable\n",
      "/home/fmitola2/.local/lib/python3.9/site-packages/pyspark/sql/context.py:113: FutureWarning: Deprecated in 3.0.0. Use SparkSession.builder.getOrCreate() instead.\n",
      "  warnings.warn(\n",
      "                                                                                \r"
     ]
    }
   ],
   "source": [
    "spark = SparkSession.Builder().appName('DDAM_Project_Mushrooms').getOrCreate()\n",
    "sql_ctx = SQLContext(spark)\n",
    "mushroom_df_cleaned = spark.read.options(inferSchema = True, delimiter = ',', header = True).csv('dataset/cleaned.csv')"
   ]
  },
  {
   "cell_type": "code",
   "execution_count": 3,
   "metadata": {},
   "outputs": [
    {
     "name": "stderr",
     "output_type": "stream",
     "text": [
      "                                                                                \r"
     ]
    },
    {
     "name": "stdout",
     "output_type": "stream",
     "text": [
      "+-----+------------+---------+-----------+---------+--------------------+---------------+----------+-----------+----------+----------+--------+---------+-------+------+\n",
      "|class|cap-diameter|cap-shape|cap-surface|cap-color|does-bruise-or-bleed|gill-attachment|gill-color|stem-height|stem-width|stem-color|has-ring|ring-type|habitat|season|\n",
      "+-----+------------+---------+-----------+---------+--------------------+---------------+----------+-----------+----------+----------+--------+---------+-------+------+\n",
      "|    e|       10.96|        f|          i|        l|                   f|              s|         b|       7.23|     1.915|         b|       f|        f|      l|     a|\n",
      "|    e|        9.33|        f|          i|        l|                   f|              s|         b|       7.36|     1.894|         b|       f|        f|      d|     w|\n",
      "|    e|        11.0|        f|          i|        l|                   f|              s|         b|       8.28|     1.988|         u|       f|        f|      l|     w|\n",
      "|    e|       14.75|        f|          i|        l|                   f|              s|         b|        8.4|     2.211|         b|       f|        f|      l|     a|\n",
      "|    e|       11.15|        f|          i|        l|                   f|              s|         b|       6.98|     1.786|         u|       f|        f|      d|     w|\n",
      "|    e|       10.71|        f|          i|        l|                   f|              s|         b|       8.24|     1.989|         b|       f|        f|      d|     a|\n",
      "|    e|       10.07|        f|          i|        l|                   f|              s|         b|       8.63|     2.229|         b|       f|        f|      d|     a|\n",
      "|    e|        9.48|        f|          i|        l|                   f|              s|         b|       7.28|     2.091|         u|       f|        f|      l|     a|\n",
      "|    e|        8.61|        f|          i|        l|                   f|              s|         b|       8.41|     2.004|         b|       f|        f|      d|     w|\n",
      "|    e|        9.31|        f|          i|        l|                   f|              s|         b|       8.09|     1.804|         b|       f|        f|      l|     w|\n",
      "|    e|        9.73|        f|          i|        l|                   f|              s|         b|       6.58|     1.864|         b|       f|        f|      d|     a|\n",
      "|    e|       13.41|        f|          i|        l|                   f|              s|         b|        6.7|     2.056|         b|       f|        f|      d|     a|\n",
      "|    e|       10.07|        f|          i|        l|                   f|              s|         b|       6.94|     1.934|         u|       f|        f|      d|     a|\n",
      "|    e|       13.15|        f|          i|        l|                   f|              s|         b|       8.26|     2.119|         u|       f|        f|      l|     w|\n",
      "|    e|       10.64|        f|          i|        l|                   f|              s|         b|       8.66|      2.09|         b|       f|        f|      l|     a|\n",
      "|    e|        8.43|        f|          i|        l|                   f|              s|         b|       7.03|     2.027|         b|       f|        f|      d|     a|\n",
      "|    e|        7.68|        f|          i|        l|                   f|              s|         b|       6.38|     1.848|         u|       f|        f|      l|     w|\n",
      "|    e|         9.9|        f|          i|        l|                   f|              s|         b|       7.12|     1.991|         b|       f|        f|      d|     a|\n",
      "|    e|       11.75|        f|          i|        l|                   f|              s|         b|       8.47|      2.11|         u|       f|        f|      d|     w|\n",
      "|    e|       10.64|        f|          i|        l|                   f|              s|         b|       8.33|     2.053|         u|       f|        f|      d|     w|\n",
      "+-----+------------+---------+-----------+---------+--------------------+---------------+----------+-----------+----------+----------+--------+---------+-------+------+\n",
      "only showing top 20 rows\n",
      "\n"
     ]
    },
    {
     "data": {
      "text/plain": [
       "60014"
      ]
     },
     "execution_count": 3,
     "metadata": {},
     "output_type": "execute_result"
    }
   ],
   "source": [
    "mushroom_df_cleaned.show()\n",
    "mushroom_df_cleaned.count()"
   ]
  },
  {
   "cell_type": "code",
   "execution_count": 4,
   "metadata": {},
   "outputs": [
    {
     "name": "stdout",
     "output_type": "stream",
     "text": [
      "The categorical columns are\n",
      "['class', 'cap-shape', 'cap-surface', 'cap-color', 'does-bruise-or-bleed', 'gill-attachment', 'gill-color', 'stem-color', 'has-ring', 'ring-type', 'habitat', 'season']\n"
     ]
    }
   ],
   "source": [
    "cat_cols = [element[0] for element in mushroom_df_cleaned.dtypes if element[1] == 'string']\n",
    "print('The categorical columns are')\n",
    "print(cat_cols)"
   ]
  },
  {
   "cell_type": "code",
   "execution_count": 5,
   "metadata": {},
   "outputs": [
    {
     "name": "stdout",
     "output_type": "stream",
     "text": [
      "The numerical columns are\n",
      "['cap-diameter', 'stem-height', 'stem-width']\n"
     ]
    }
   ],
   "source": [
    "num_cols = [element[0] for element in mushroom_df_cleaned.dtypes if element[1] != 'string']\n",
    "print('The numerical columns are')\n",
    "print(num_cols)"
   ]
  },
  {
   "cell_type": "markdown",
   "metadata": {},
   "source": [
    "Feature Preprocessing for the classification"
   ]
  },
  {
   "cell_type": "code",
   "execution_count": 7,
   "metadata": {},
   "outputs": [
    {
     "name": "stderr",
     "output_type": "stream",
     "text": [
      "                                                                                \r"
     ]
    }
   ],
   "source": [
    "bool_cols = ['does-bruise-or-bleed', 'has-ring']\n",
    "\n",
    "mushroom_df_cleaned = mushroom_df_cleaned.withColumn(\"class_indexed\", when(mushroom_df_cleaned['class'].contains('e'), 0).otherwise(1))\n",
    "\n",
    "for c in bool_cols:\n",
    "    mushroom_df_cleaned = mushroom_df_cleaned.withColumn(f\"{c}_indexed\", when(mushroom_df_cleaned[c].contains('f'), 0).otherwise(1))\n",
    "\n",
    "bool_cols.append('class')\n",
    "\n",
    "remaining_cols = [item for item in cat_cols if item not in bool_cols]\n",
    "\n",
    "for c in remaining_cols:\n",
    "    indexer_fitted = StringIndexer(inputCol=c, outputCol=f\"{c}_indexed\").fit(mushroom_df_cleaned)\n",
    "    mushroom_df_cleaned = indexer_fitted.transform(mushroom_df_cleaned)\n",
    "\n",
    "mushroom_df_cleaned = mushroom_df_cleaned.drop(*cat_cols)"
   ]
  },
  {
   "cell_type": "code",
   "execution_count": 8,
   "metadata": {},
   "outputs": [
    {
     "name": "stderr",
     "output_type": "stream",
     "text": [
      "24/05/29 10:48:16 WARN SparkStringUtils: Truncated the string representation of a plan since it was too large. This behavior can be adjusted by setting 'spark.sql.debug.maxToStringFields'.\n"
     ]
    },
    {
     "name": "stdout",
     "output_type": "stream",
     "text": [
      "+-----------------------------------------------------------------+-----------+\n",
      "|input_features                                                   |isPoisonous|\n",
      "+-----------------------------------------------------------------+-----------+\n",
      "|[10.96,7.23,1.915,0.0,0.0,1.0,9.0,11.0,4.0,11.0,12.0,0.0,2.0,0.0]|0          |\n",
      "|[9.33,7.36,1.894,0.0,0.0,1.0,9.0,11.0,4.0,11.0,12.0,0.0,0.0,2.0] |0          |\n",
      "|[11.0,8.28,1.988,0.0,0.0,1.0,9.0,11.0,4.0,11.0,6.0,0.0,2.0,2.0]  |0          |\n",
      "|[14.75,8.4,2.211,0.0,0.0,1.0,9.0,11.0,4.0,11.0,12.0,0.0,2.0,0.0] |0          |\n",
      "|[11.15,6.98,1.786,0.0,0.0,1.0,9.0,11.0,4.0,11.0,6.0,0.0,0.0,2.0] |0          |\n",
      "|[10.71,8.24,1.989,0.0,0.0,1.0,9.0,11.0,4.0,11.0,12.0,0.0,0.0,0.0]|0          |\n",
      "|[10.07,8.63,2.229,0.0,0.0,1.0,9.0,11.0,4.0,11.0,12.0,0.0,0.0,0.0]|0          |\n",
      "|[9.48,7.28,2.091,0.0,0.0,1.0,9.0,11.0,4.0,11.0,6.0,0.0,2.0,0.0]  |0          |\n",
      "|[8.61,8.41,2.004,0.0,0.0,1.0,9.0,11.0,4.0,11.0,12.0,0.0,0.0,2.0] |0          |\n",
      "|[9.31,8.09,1.804,0.0,0.0,1.0,9.0,11.0,4.0,11.0,12.0,0.0,2.0,2.0] |0          |\n",
      "|[9.73,6.58,1.864,0.0,0.0,1.0,9.0,11.0,4.0,11.0,12.0,0.0,0.0,0.0] |0          |\n",
      "|[13.41,6.7,2.056,0.0,0.0,1.0,9.0,11.0,4.0,11.0,12.0,0.0,0.0,0.0] |0          |\n",
      "|[10.07,6.94,1.934,0.0,0.0,1.0,9.0,11.0,4.0,11.0,6.0,0.0,0.0,0.0] |0          |\n",
      "|[13.15,8.26,2.119,0.0,0.0,1.0,9.0,11.0,4.0,11.0,6.0,0.0,2.0,2.0] |0          |\n",
      "|[10.64,8.66,2.09,0.0,0.0,1.0,9.0,11.0,4.0,11.0,12.0,0.0,2.0,0.0] |0          |\n",
      "|[8.43,7.03,2.027,0.0,0.0,1.0,9.0,11.0,4.0,11.0,12.0,0.0,0.0,0.0] |0          |\n",
      "|[7.68,6.38,1.848,0.0,0.0,1.0,9.0,11.0,4.0,11.0,6.0,0.0,2.0,2.0]  |0          |\n",
      "|[9.9,7.12,1.991,0.0,0.0,1.0,9.0,11.0,4.0,11.0,12.0,0.0,0.0,0.0]  |0          |\n",
      "|[11.75,8.47,2.11,0.0,0.0,1.0,9.0,11.0,4.0,11.0,6.0,0.0,0.0,2.0]  |0          |\n",
      "|[10.64,8.33,2.053,0.0,0.0,1.0,9.0,11.0,4.0,11.0,6.0,0.0,0.0,2.0] |0          |\n",
      "+-----------------------------------------------------------------+-----------+\n",
      "only showing top 20 rows\n",
      "\n"
     ]
    }
   ],
   "source": [
    "valid_cols = ['cap-diameter', 'stem-height', 'stem-width', 'does-bruise-or-bleed_indexed',\n",
    " 'has-ring_indexed', 'cap-shape_indexed', 'cap-surface_indexed', 'cap-color_indexed',\n",
    " 'gill-attachment_indexed', 'gill-color_indexed', 'stem-color_indexed',\n",
    " 'ring-type_indexed', 'habitat_indexed', 'season_indexed']\n",
    "\n",
    "\n",
    "assembler = VectorAssembler(inputCols=valid_cols, outputCol=\"input_features\")\n",
    "\n",
    "dataset = assembler.transform(mushroom_df_cleaned)\n",
    "\n",
    "dataset = dataset.withColumnRenamed('class_indexed', 'isPoisonous')\n",
    "\n",
    "classification_df = dataset.select(\"input_features\", \"isPoisonous\")\n",
    "\n",
    "classification_df.show(truncate=False)\n"
   ]
  },
  {
   "cell_type": "code",
   "execution_count": 10,
   "metadata": {},
   "outputs": [],
   "source": [
    "def value_counts(df):\n",
    "   grouped_df = df.select(\"isPoisonous\").groupBy(\"isPoisonous\").agg(count(\"isPoisonous\").alias(\"total_value\"))\n",
    "   proportions = grouped_df.withColumn(\"proportions\", col(\"total_value\") / df.count()).select(\"isPoisonous\",\"proportions\")\n",
    "   return proportions\n",
    " "
   ]
  },
  {
   "cell_type": "code",
   "execution_count": 11,
   "metadata": {},
   "outputs": [
    {
     "name": "stdout",
     "output_type": "stream",
     "text": [
      "+-----------+------------------+\n",
      "|isPoisonous|       proportions|\n",
      "+-----------+------------------+\n",
      "|          1|0.5546039257506582|\n",
      "|          0|0.4453960742493418|\n",
      "+-----------+------------------+\n",
      "\n"
     ]
    }
   ],
   "source": [
    "#Initial class distributions\n",
    "value_counts(classification_df).show()"
   ]
  },
  {
   "cell_type": "code",
   "execution_count": 12,
   "metadata": {},
   "outputs": [],
   "source": [
    "(dev_df, test_df) = classification_df.randomSplit([0.7, 0.3],seed=0)"
   ]
  },
  {
   "cell_type": "code",
   "execution_count": 13,
   "metadata": {},
   "outputs": [
    {
     "name": "stderr",
     "output_type": "stream",
     "text": [
      "                                                                                \r"
     ]
    },
    {
     "name": "stdout",
     "output_type": "stream",
     "text": [
      "+-----------+-------------------+\n",
      "|isPoisonous|        proportions|\n",
      "+-----------+-------------------+\n",
      "|          1| 0.5569981452418319|\n",
      "|          0|0.44300185475816806|\n",
      "+-----------+-------------------+\n",
      "\n"
     ]
    },
    {
     "name": "stderr",
     "output_type": "stream",
     "text": [
      "[Stage 139:>                                                        (0 + 1) / 1]\r"
     ]
    },
    {
     "name": "stdout",
     "output_type": "stream",
     "text": [
      "+-----------+------------------+\n",
      "|isPoisonous|       proportions|\n",
      "+-----------+------------------+\n",
      "|          1|0.5489977728285078|\n",
      "|          0|0.4510022271714922|\n",
      "+-----------+------------------+\n",
      "\n"
     ]
    },
    {
     "name": "stderr",
     "output_type": "stream",
     "text": [
      "                                                                                \r"
     ]
    }
   ],
   "source": [
    "#Verify the class distributions after the split\n",
    "value_counts(dev_df).show()\n",
    "value_counts(test_df).show()"
   ]
  },
  {
   "cell_type": "code",
   "execution_count": 14,
   "metadata": {},
   "outputs": [
    {
     "name": "stderr",
     "output_type": "stream",
     "text": [
      "24/05/29 10:48:30 WARN BlockManager: Block rdd_296_0 already exists on this machine; not re-adding it\n",
      "24/05/29 10:48:35 WARN InstanceBuilder: Failed to load implementation from:dev.ludovic.netlib.blas.JNIBLAS\n",
      "                                                                                \r"
     ]
    }
   ],
   "source": [
    "mlp = MultilayerPerceptronClassifier(labelCol=\"isPoisonous\", featuresCol=\"input_features\")\n",
    "\n",
    "input_size = len(mushroom_df_cleaned.columns) - 1\n",
    "output_size = 2\n",
    "\n",
    "# performing grid search\n",
    "\n",
    "# additional configurations alredy tested in coarse grid search: \n",
    "# layers:  [input_size, 4, 16, output_size], [input_size, 4, 32, 16, output_size], [input_size, 16, output_size], [input_size, 32, 16, output_size]\n",
    "# stepSize: 0.001, 0.1\n",
    "# solver: 'gd'\n",
    "# maxIter: 50, 100, 150, 200, 300, 400, \n",
    "\n",
    "paramGrid = ParamGridBuilder() \\\n",
    "    .addGrid(mlp.layers, [[input_size, 64, output_size]])\\\n",
    "    .addGrid(mlp.stepSize, [0.01])\\\n",
    "    .addGrid(mlp.solver, ['l-bfgs'])\\\n",
    "    .addGrid(mlp.maxIter, [500])\\\n",
    "    .build()\n",
    "   \n",
    "\n",
    "evaluator = MulticlassClassificationEvaluator(labelCol=\"isPoisonous\", predictionCol=\"prediction\", metricName='accuracy')\n",
    "\n",
    "crossval = CrossValidator(estimator=mlp,\n",
    "                          estimatorParamMaps=paramGrid,\n",
    "                          evaluator=evaluator,\n",
    "                          numFolds=5,\n",
    "                          parallelism=3,\n",
    "                          collectSubModels = True,\n",
    "                          seed = 42)\n",
    "\n",
    "cv_model = crossval.fit(dev_df)"
   ]
  },
  {
   "cell_type": "code",
   "execution_count": 15,
   "metadata": {},
   "outputs": [
    {
     "name": "stdout",
     "output_type": "stream",
     "text": [
      "        layers  stepSize  solver  maxIter  avg_accuracy\n",
      "1  [14, 64, 2]      0.01  l-bfgs      500      0.995746\n",
      "0  [14, 64, 2]      0.01  l-bfgs      400      0.994392\n"
     ]
    }
   ],
   "source": [
    "results = []\n",
    "\n",
    "# Extract average metrics for each parameter combination to make a ranking\n",
    "for idx, params in enumerate(cv_model.getEstimatorParamMaps()):\n",
    "    param_dict = {param.name: value for param, value in params.items()}\n",
    "    avg_metric = cv_model.avgMetrics[idx]\n",
    "    results.append({**param_dict, \"avg_accuracy\": avg_metric})\n",
    "\n",
    "# Making a ranking of tested models, ordered by avg_accuracy\n",
    "results_df = pd.DataFrame(results)\n",
    "results_df = results_df.sort_values('avg_accuracy', ascending=False)\n",
    "\n",
    "print(results_df)"
   ]
  },
  {
   "cell_type": "code",
   "execution_count": 16,
   "metadata": {},
   "outputs": [
    {
     "name": "stdout",
     "output_type": "stream",
     "text": [
      "best config: layers: [14, 64, 2], stepSize: 0.01, solver: l-bfgs, maxIter: 500\n"
     ]
    },
    {
     "name": "stderr",
     "output_type": "stream",
     "text": [
      "                                                                                \r"
     ]
    },
    {
     "name": "stdout",
     "output_type": "stream",
     "text": [
      "Test Accuracy: 0.9972\n",
      "0/1 Error: 0.0028\n",
      "F1 Score: 0.9972\n",
      "Precision: 0.9972\n",
      "Recall: 0.9972\n"
     ]
    },
    {
     "name": "stderr",
     "output_type": "stream",
     "text": [
      "                                                                                \r"
     ]
    }
   ],
   "source": [
    "best_model = cv_model.bestModel\n",
    "\n",
    "param_dict = best_model.extractParamMap()\n",
    "# Convert the keys to strings for easier access\n",
    "sane_dict = {}\n",
    "for k, v in param_dict.items():\n",
    "    sane_dict[k.name] = v\n",
    "\n",
    "# best model hyper-parameters\n",
    "print(f\"best config: layers: {sane_dict['layers']}, stepSize: {sane_dict['stepSize']}, solver: {sane_dict['solver']}, maxIter: {sane_dict['maxIter']}\")\n",
    "\n",
    "predictions = best_model.transform(test_df)\n",
    "accuracy = evaluator.evaluate(predictions)\n",
    "\n",
    "evaluator.setMetricName(\"f1\")\n",
    "f1 = evaluator.evaluate(predictions)\n",
    "\n",
    "evaluator.setMetricName(\"weightedPrecision\")\n",
    "precision = evaluator.evaluate(predictions)\n",
    "\n",
    "evaluator.setMetricName(\"weightedRecall\")\n",
    "recall = evaluator.evaluate(predictions)\n",
    "\n",
    "print(f\"Test Accuracy: {accuracy:.4f}\")\n",
    "print(f\"0/1 Error: {1.0 - accuracy:.4f}\")\n",
    "print(f\"F1 Score: {f1:.4f}\")\n",
    "print(f\"Precision: {precision:.4f}\")\n",
    "print(f\"Recall: {recall:.4f}\")"
   ]
  },
  {
   "cell_type": "code",
   "execution_count": 17,
   "metadata": {},
   "outputs": [
    {
     "name": "stderr",
     "output_type": "stream",
     "text": [
      "/home/fmitola2/.local/lib/python3.9/site-packages/pyspark/sql/context.py:158: FutureWarning: Deprecated in 3.0.0. Use SparkSession.builder.getOrCreate() instead.\n",
      "  warnings.warn(\n",
      "                                                                                \r"
     ]
    },
    {
     "name": "stdout",
     "output_type": "stream",
     "text": [
      "[[8076.   24.]\n",
      " [  27. 9833.]]\n"
     ]
    },
    {
     "data": {
      "image/png": "[encoded data removed]",
      "text/plain": [
       "<Figure size 800x600 with 2 Axes>"
      ]
     },
     "metadata": {},
     "output_type": "display_data"
    }
   ],
   "source": [
    "preds_and_labels = predictions.select(\"prediction\", \"isPoisonous\")\n",
    "preds_and_labels_rdd = preds_and_labels.rdd.map((lambda x: (float(x['prediction']), float(x['isPoisonous']))))\n",
    "\n",
    "metrics = MulticlassMetrics(preds_and_labels_rdd)\n",
    "confusion_matrix = metrics.confusionMatrix().toArray()\n",
    "print(confusion_matrix)\n",
    "\n",
    "# Plot the confusion matrix\n",
    "plt.figure(figsize=(8, 6))\n",
    "sns.heatmap(confusion_matrix, annot=True, cmap=\"Blues\")\n",
    "\n",
    "plt.xlabel(\"Predicted Label\")\n",
    "plt.ylabel(\"True Label\")\n",
    "plt.title(\"Confusion Matrix\")\n",
    "plt.show()"
   ]
  }
 ],
 "metadata": {
  "kernelspec": {
   "display_name": ".venv",
   "language": "python",
   "name": "python3"
  },
  "language_info": {
   "codemirror_mode": {
    "name": "ipython",
    "version": 3
   },
   "file_extension": ".py",
   "mimetype": "text/x-python",
   "name": "python",
   "nbconvert_exporter": "python",
   "pygments_lexer": "ipython3",
   "version": "3.9.2"
  }
 },
 "nbformat": 4,
 "nbformat_minor": 2
}
