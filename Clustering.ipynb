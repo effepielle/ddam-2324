{
 "cells": [
  {
   "cell_type": "code",
   "execution_count": 48,
   "metadata": {},
   "outputs": [],
   "source": [
    "from pyspark.sql import SQLContext, SparkSession\n",
    "from pyspark.ml.feature import VectorAssembler, StandardScaler\n",
    "import matplotlib.pyplot as plt\n",
    "import seaborn as sns\n",
    "from pyspark.ml.clustering import KMeans, BisectingKMeans\n",
    "from kneed import KneeLocator\n",
    "from pyspark.ml.evaluation import ClusteringEvaluator"
   ]
  },
  {
   "cell_type": "code",
   "execution_count": 49,
   "metadata": {},
   "outputs": [
    {
     "name": "stderr",
     "output_type": "stream",
     "text": [
      "/home/fmitola2/.local/lib/python3.9/site-packages/pyspark/sql/context.py:113: FutureWarning: Deprecated in 3.0.0. Use SparkSession.builder.getOrCreate() instead.\n",
      "  warnings.warn(\n"
     ]
    }
   ],
   "source": [
    "spark = SparkSession.Builder().appName('DDAM_Project_Mushrooms').getOrCreate()\n",
    "sql_ctx = SQLContext(spark)\n",
    "mushroom_df_cleaned = spark.read.options(inferSchema = True, delimiter = ',', header = True).csv('dataset/cleaned.csv')"
   ]
  },
  {
   "cell_type": "code",
   "execution_count": 50,
   "metadata": {},
   "outputs": [
    {
     "name": "stdout",
     "output_type": "stream",
     "text": [
      "+-----+------------+---------+-----------+---------+--------------------+---------------+----------+-----------+----------+----------+--------+---------+-------+------+\n",
      "|class|cap-diameter|cap-shape|cap-surface|cap-color|does-bruise-or-bleed|gill-attachment|gill-color|stem-height|stem-width|stem-color|has-ring|ring-type|habitat|season|\n",
      "+-----+------------+---------+-----------+---------+--------------------+---------------+----------+-----------+----------+----------+--------+---------+-------+------+\n",
      "|    e|       10.96|        f|          i|        l|                   f|              s|         b|       7.23|     1.915|         b|       f|        f|      l|     a|\n",
      "|    e|        9.33|        f|          i|        l|                   f|              s|         b|       7.36|     1.894|         b|       f|        f|      d|     w|\n",
      "|    e|        11.0|        f|          i|        l|                   f|              s|         b|       8.28|     1.988|         u|       f|        f|      l|     w|\n",
      "|    e|       14.75|        f|          i|        l|                   f|              s|         b|        8.4|     2.211|         b|       f|        f|      l|     a|\n",
      "|    e|       11.15|        f|          i|        l|                   f|              s|         b|       6.98|     1.786|         u|       f|        f|      d|     w|\n",
      "|    e|       10.71|        f|          i|        l|                   f|              s|         b|       8.24|     1.989|         b|       f|        f|      d|     a|\n",
      "|    e|       10.07|        f|          i|        l|                   f|              s|         b|       8.63|     2.229|         b|       f|        f|      d|     a|\n",
      "|    e|        9.48|        f|          i|        l|                   f|              s|         b|       7.28|     2.091|         u|       f|        f|      l|     a|\n",
      "|    e|        8.61|        f|          i|        l|                   f|              s|         b|       8.41|     2.004|         b|       f|        f|      d|     w|\n",
      "|    e|        9.31|        f|          i|        l|                   f|              s|         b|       8.09|     1.804|         b|       f|        f|      l|     w|\n",
      "|    e|        9.73|        f|          i|        l|                   f|              s|         b|       6.58|     1.864|         b|       f|        f|      d|     a|\n",
      "|    e|       13.41|        f|          i|        l|                   f|              s|         b|        6.7|     2.056|         b|       f|        f|      d|     a|\n",
      "|    e|       10.07|        f|          i|        l|                   f|              s|         b|       6.94|     1.934|         u|       f|        f|      d|     a|\n",
      "|    e|       13.15|        f|          i|        l|                   f|              s|         b|       8.26|     2.119|         u|       f|        f|      l|     w|\n",
      "|    e|       10.64|        f|          i|        l|                   f|              s|         b|       8.66|      2.09|         b|       f|        f|      l|     a|\n",
      "|    e|        8.43|        f|          i|        l|                   f|              s|         b|       7.03|     2.027|         b|       f|        f|      d|     a|\n",
      "|    e|        7.68|        f|          i|        l|                   f|              s|         b|       6.38|     1.848|         u|       f|        f|      l|     w|\n",
      "|    e|         9.9|        f|          i|        l|                   f|              s|         b|       7.12|     1.991|         b|       f|        f|      d|     a|\n",
      "|    e|       11.75|        f|          i|        l|                   f|              s|         b|       8.47|      2.11|         u|       f|        f|      d|     w|\n",
      "|    e|       10.64|        f|          i|        l|                   f|              s|         b|       8.33|     2.053|         u|       f|        f|      d|     w|\n",
      "+-----+------------+---------+-----------+---------+--------------------+---------------+----------+-----------+----------+----------+--------+---------+-------+------+\n",
      "only showing top 20 rows\n",
      "\n"
     ]
    },
    {
     "data": {
      "text/plain": [
       "60014"
      ]
     },
     "execution_count": 50,
     "metadata": {},
     "output_type": "execute_result"
    }
   ],
   "source": [
    "mushroom_df_cleaned.show()\n",
    "mushroom_df_cleaned.count()"
   ]
  },
  {
   "cell_type": "code",
   "execution_count": 51,
   "metadata": {},
   "outputs": [
    {
     "data": {
      "text/plain": [
       "[('class', 'string'),\n",
       " ('cap-diameter', 'double'),\n",
       " ('cap-shape', 'string'),\n",
       " ('cap-surface', 'string'),\n",
       " ('cap-color', 'string'),\n",
       " ('does-bruise-or-bleed', 'string'),\n",
       " ('gill-attachment', 'string'),\n",
       " ('gill-color', 'string'),\n",
       " ('stem-height', 'double'),\n",
       " ('stem-width', 'double'),\n",
       " ('stem-color', 'string'),\n",
       " ('has-ring', 'string'),\n",
       " ('ring-type', 'string'),\n",
       " ('habitat', 'string'),\n",
       " ('season', 'string')]"
      ]
     },
     "execution_count": 51,
     "metadata": {},
     "output_type": "execute_result"
    }
   ],
   "source": [
    "mushroom_df_cleaned.dtypes"
   ]
  },
  {
   "cell_type": "code",
   "execution_count": 52,
   "metadata": {},
   "outputs": [
    {
     "name": "stdout",
     "output_type": "stream",
     "text": [
      "The numerical columns are\n",
      "['class', 'cap-shape', 'cap-surface', 'cap-color', 'does-bruise-or-bleed', 'gill-attachment', 'gill-color', 'stem-color', 'has-ring', 'ring-type', 'habitat', 'season']\n"
     ]
    }
   ],
   "source": [
    "cat_cols = [element[0] for element in mushroom_df_cleaned.dtypes if element[1] == 'string']\n",
    "print('The numerical columns are')\n",
    "print(cat_cols)"
   ]
  },
  {
   "cell_type": "code",
   "execution_count": 53,
   "metadata": {},
   "outputs": [
    {
     "name": "stdout",
     "output_type": "stream",
     "text": [
      "The numerical columns are\n",
      "['cap-diameter', 'stem-height', 'stem-width']\n"
     ]
    }
   ],
   "source": [
    "num_cols = [element[0] for element in mushroom_df_cleaned.dtypes if element[1] != 'string']\n",
    "print('The numerical columns are')\n",
    "print(num_cols)"
   ]
  },
  {
   "cell_type": "code",
   "execution_count": 54,
   "metadata": {},
   "outputs": [],
   "source": [
    "assembler = VectorAssembler(\n",
    "    inputCols=num_cols,\n",
    "    outputCol=\"num_attrs_clustering\")\n",
    "\n",
    "assembled_df = assembler.transform(mushroom_df_cleaned)\n",
    "\n",
    "scaler = StandardScaler(withMean=True, withStd=True, inputCol=\"num_attrs_clustering\", outputCol=\"num_attrs_clustering_scaled\")\n",
    "\n",
    "scaled_df = scaler.fit(assembled_df).transform(assembled_df)\n",
    "\n",
    "kmeans_df = scaled_df.select(\"*\")\n",
    "bisecting_kmeans_df = scaled_df.select(\"*\")"
   ]
  },
  {
   "cell_type": "markdown",
   "metadata": {},
   "source": [
    "# K-Means"
   ]
  },
  {
   "cell_type": "markdown",
   "metadata": {},
   "source": [
    "Searching best k using elbow method"
   ]
  },
  {
   "cell_type": "code",
   "execution_count": 55,
   "metadata": {},
   "outputs": [
    {
     "name": "stdout",
     "output_type": "stream",
     "text": [
      "\n"
     ]
    },
    {
     "name": "stderr",
     "output_type": "stream",
     "text": [
      "                                                                                \r"
     ]
    },
    {
     "name": "stdout",
     "output_type": "stream",
     "text": [
      "K: 2\n",
      "Silhouette (squared euclidean): 0.6209\n",
      "SSE: 98004.4072\n",
      "\n",
      "K: 3\n",
      "Silhouette (squared euclidean): 0.5452\n",
      "SSE: 75847.8114\n",
      "\n"
     ]
    },
    {
     "name": "stderr",
     "output_type": "stream",
     "text": [
      "                                                                                \r"
     ]
    },
    {
     "name": "stdout",
     "output_type": "stream",
     "text": [
      "K: 4\n",
      "Silhouette (squared euclidean): 0.4242\n",
      "SSE: 65660.4198\n",
      "\n"
     ]
    },
    {
     "name": "stderr",
     "output_type": "stream",
     "text": [
      "                                                                                \r"
     ]
    },
    {
     "name": "stdout",
     "output_type": "stream",
     "text": [
      "K: 5\n",
      "Silhouette (squared euclidean): 0.5101\n",
      "SSE: 52063.9147\n",
      "\n"
     ]
    },
    {
     "name": "stderr",
     "output_type": "stream",
     "text": [
      "                                                                                \r"
     ]
    },
    {
     "name": "stdout",
     "output_type": "stream",
     "text": [
      "K: 6\n",
      "Silhouette (squared euclidean): 0.3867\n",
      "SSE: 55580.0683\n",
      "\n",
      "K: 7\n",
      "Silhouette (squared euclidean): 0.3622\n",
      "SSE: 46804.8584\n",
      "\n",
      "K: 8\n",
      "Silhouette (squared euclidean): 0.4310\n",
      "SSE: 39171.9821\n",
      "\n"
     ]
    },
    {
     "name": "stderr",
     "output_type": "stream",
     "text": [
      "                                                                                \r"
     ]
    },
    {
     "name": "stdout",
     "output_type": "stream",
     "text": [
      "K: 9\n",
      "Silhouette (squared euclidean): 0.4307\n",
      "SSE: 33611.8444\n",
      "\n"
     ]
    },
    {
     "name": "stderr",
     "output_type": "stream",
     "text": [
      "                                                                                \r"
     ]
    },
    {
     "name": "stdout",
     "output_type": "stream",
     "text": [
      "K: 10\n",
      "Silhouette (squared euclidean): 0.3637\n",
      "SSE: 35879.7772\n",
      "\n"
     ]
    },
    {
     "name": "stderr",
     "output_type": "stream",
     "text": [
      "                                                                                \r"
     ]
    },
    {
     "name": "stdout",
     "output_type": "stream",
     "text": [
      "K: 11\n",
      "Silhouette (squared euclidean): 0.3597\n",
      "SSE: 33684.7992\n",
      "\n"
     ]
    },
    {
     "name": "stderr",
     "output_type": "stream",
     "text": [
      "                                                                                \r"
     ]
    },
    {
     "name": "stdout",
     "output_type": "stream",
     "text": [
      "K: 12\n",
      "Silhouette (squared euclidean): 0.4057\n",
      "SSE: 26480.5017\n",
      "\n"
     ]
    },
    {
     "name": "stderr",
     "output_type": "stream",
     "text": [
      "                                                                                \r"
     ]
    },
    {
     "name": "stdout",
     "output_type": "stream",
     "text": [
      "K: 13\n",
      "Silhouette (squared euclidean): 0.3675\n",
      "SSE: 32018.2140\n",
      "\n"
     ]
    },
    {
     "name": "stderr",
     "output_type": "stream",
     "text": [
      "                                                                                \r"
     ]
    },
    {
     "name": "stdout",
     "output_type": "stream",
     "text": [
      "K: 14\n",
      "Silhouette (squared euclidean): 0.4018\n",
      "SSE: 23924.8582\n",
      "\n"
     ]
    },
    {
     "name": "stderr",
     "output_type": "stream",
     "text": [
      "                                                                                \r"
     ]
    },
    {
     "name": "stdout",
     "output_type": "stream",
     "text": [
      "K: 15\n",
      "Silhouette (squared euclidean): 0.4072\n",
      "SSE: 23449.1141\n",
      "\n"
     ]
    },
    {
     "name": "stderr",
     "output_type": "stream",
     "text": [
      "                                                                                \r"
     ]
    },
    {
     "name": "stdout",
     "output_type": "stream",
     "text": [
      "K: 16\n",
      "Silhouette (squared euclidean): 0.3844\n",
      "SSE: 22194.6284\n",
      "\n"
     ]
    },
    {
     "name": "stderr",
     "output_type": "stream",
     "text": [
      "                                                                                \r"
     ]
    },
    {
     "name": "stdout",
     "output_type": "stream",
     "text": [
      "K: 17\n",
      "Silhouette (squared euclidean): 0.4071\n",
      "SSE: 22099.7591\n",
      "\n"
     ]
    },
    {
     "name": "stderr",
     "output_type": "stream",
     "text": [
      "                                                                                \r"
     ]
    },
    {
     "name": "stdout",
     "output_type": "stream",
     "text": [
      "K: 18\n",
      "Silhouette (squared euclidean): 0.3900\n",
      "SSE: 21430.9830\n",
      "\n"
     ]
    },
    {
     "name": "stderr",
     "output_type": "stream",
     "text": [
      "                                                                                \r"
     ]
    },
    {
     "name": "stdout",
     "output_type": "stream",
     "text": [
      "K: 19\n",
      "Silhouette (squared euclidean): 0.4022\n",
      "SSE: 20028.3991\n",
      "\n"
     ]
    },
    {
     "name": "stderr",
     "output_type": "stream",
     "text": [
      "                                                                                \r"
     ]
    },
    {
     "name": "stdout",
     "output_type": "stream",
     "text": [
      "K: 20\n",
      "Silhouette (squared euclidean): 0.4030\n",
      "SSE: 18990.0836\n",
      "\n"
     ]
    },
    {
     "name": "stderr",
     "output_type": "stream",
     "text": [
      "                                                                                \r"
     ]
    },
    {
     "name": "stdout",
     "output_type": "stream",
     "text": [
      "K: 21\n",
      "Silhouette (squared euclidean): 0.4254\n",
      "SSE: 17325.3351\n",
      "\n"
     ]
    },
    {
     "name": "stderr",
     "output_type": "stream",
     "text": [
      "                                                                                \r"
     ]
    },
    {
     "name": "stdout",
     "output_type": "stream",
     "text": [
      "K: 22\n",
      "Silhouette (squared euclidean): 0.4169\n",
      "SSE: 17589.7834\n",
      "\n"
     ]
    },
    {
     "name": "stderr",
     "output_type": "stream",
     "text": [
      "                                                                                \r"
     ]
    },
    {
     "name": "stdout",
     "output_type": "stream",
     "text": [
      "K: 23\n",
      "Silhouette (squared euclidean): 0.4068\n",
      "SSE: 16936.2704\n",
      "\n"
     ]
    },
    {
     "name": "stderr",
     "output_type": "stream",
     "text": [
      "                                                                                \r"
     ]
    },
    {
     "name": "stdout",
     "output_type": "stream",
     "text": [
      "K: 24\n",
      "Silhouette (squared euclidean): 0.3887\n",
      "SSE: 17582.3415\n",
      "\n"
     ]
    },
    {
     "name": "stderr",
     "output_type": "stream",
     "text": [
      "                                                                                \r"
     ]
    },
    {
     "name": "stdout",
     "output_type": "stream",
     "text": [
      "K: 25\n",
      "Silhouette (squared euclidean): 0.3792\n",
      "SSE: 16990.6155\n",
      "\n"
     ]
    },
    {
     "name": "stderr",
     "output_type": "stream",
     "text": [
      "                                                                                \r"
     ]
    },
    {
     "name": "stdout",
     "output_type": "stream",
     "text": [
      "K: 26\n",
      "Silhouette (squared euclidean): 0.4207\n",
      "SSE: 14257.9086\n",
      "\n"
     ]
    },
    {
     "name": "stderr",
     "output_type": "stream",
     "text": [
      "                                                                                \r"
     ]
    },
    {
     "name": "stdout",
     "output_type": "stream",
     "text": [
      "K: 27\n",
      "Silhouette (squared euclidean): 0.4131\n",
      "SSE: 13442.3871\n",
      "\n"
     ]
    },
    {
     "name": "stderr",
     "output_type": "stream",
     "text": [
      "                                                                                \r"
     ]
    },
    {
     "name": "stdout",
     "output_type": "stream",
     "text": [
      "K: 28\n",
      "Silhouette (squared euclidean): 0.4153\n",
      "SSE: 14295.4241\n",
      "\n"
     ]
    },
    {
     "name": "stderr",
     "output_type": "stream",
     "text": [
      "                                                                                \r"
     ]
    },
    {
     "name": "stdout",
     "output_type": "stream",
     "text": [
      "K: 29\n",
      "Silhouette (squared euclidean): 0.4202\n",
      "SSE: 13777.1388\n",
      "\n"
     ]
    },
    {
     "name": "stderr",
     "output_type": "stream",
     "text": [
      "                                                                                \r"
     ]
    },
    {
     "name": "stdout",
     "output_type": "stream",
     "text": [
      "K: 30\n",
      "Silhouette (squared euclidean): 0.3642\n",
      "SSE: 15481.3186\n"
     ]
    },
    {
     "data": {
      "image/png": "[encoded data removed]",
      "text/plain": [
       "<Figure size 640x480 with 1 Axes>"
      ]
     },
     "metadata": {},
     "output_type": "display_data"
    },
    {
     "name": "stdout",
     "output_type": "stream",
     "text": [
      "Elbow at K:5\n"
     ]
    },
    {
     "data": {
      "image/png": "[encoded data removed]",
      "text/plain": [
       "<Figure size 640x480 with 1 Axes>"
      ]
     },
     "metadata": {},
     "output_type": "display_data"
    }
   ],
   "source": [
    "sse_scores = []\n",
    "silhouette_scores = []\n",
    "\n",
    "MAX_K = 31\n",
    "\n",
    "#Trying different k recording sse and silhouette scores\n",
    "\n",
    "for k in range(2,MAX_K):\n",
    "\n",
    "    print('')\n",
    "    kmeans = KMeans(featuresCol=\"num_attrs_clustering_scaled\", k=k, initMode='random')\n",
    "    model = kmeans.fit(kmeans_df)\n",
    "    predictions = model.transform(kmeans_df)\n",
    "    silhouette = ClusteringEvaluator(featuresCol=\"num_attrs_clustering_scaled\").evaluate(predictions)\n",
    "    sse = model.summary.trainingCost\n",
    "    \n",
    "    print(f\"K: {k}\")\n",
    "    print(f\"Silhouette (squared euclidean): {silhouette:.4f}\")\n",
    "    print(f\"SSE: {sse:.4f}\")\n",
    "    sse_scores.append(sse)\n",
    "    silhouette_scores.append(silhouette)\n",
    "\n",
    "\n",
    "plt.figure()\n",
    "plt.plot(range(2, MAX_K), sse_scores)\n",
    "plt.xlabel(\"K\")\n",
    "plt.ylabel(\"SSE\")\n",
    "plt.title(\"Elbow Method Score\")\n",
    "plt.show()\n",
    "\n",
    "\n",
    "kl = KneeLocator(range(2, MAX_K), sse_scores, curve=\"convex\", direction=\"decreasing\")\n",
    "print(f\"Elbow at K:{kl.elbow}\")\n",
    "\n",
    "plt.figure()\n",
    "plt.plot(range(2, MAX_K), silhouette_scores)\n",
    "plt.xlabel(\"K\")\n",
    "plt.ylabel(\"Silhouette\")\n",
    "plt.title(\"Silhouette Score\")\n",
    "plt.show()"
   ]
  },
  {
   "cell_type": "markdown",
   "metadata": {},
   "source": [
    "Retraining K-means using the best k found"
   ]
  },
  {
   "cell_type": "code",
   "execution_count": 56,
   "metadata": {},
   "outputs": [
    {
     "name": "stdout",
     "output_type": "stream",
     "text": [
      "Silhouette: 0.5101179076346803\n",
      "SSE: 52063.91471972959\n"
     ]
    }
   ],
   "source": [
    "kmeans=KMeans(featuresCol=\"num_attrs_clustering_scaled\",k=5, initMode='random')\n",
    "model = kmeans.fit(kmeans_df)\n",
    "predictions = model.transform(kmeans_df)\n",
    "\n",
    "silhouette = ClusteringEvaluator(featuresCol=\"num_attrs_clustering_scaled\").evaluate(predictions)\n",
    "sse = model.summary.trainingCost\n",
    "\n",
    "print(f\"Silhouette: {silhouette}\")\n",
    "print(f\"SSE: {sse}\")"
   ]
  },
  {
   "cell_type": "markdown",
   "metadata": {},
   "source": [
    "Distribution analysis"
   ]
  },
  {
   "cell_type": "code",
   "execution_count": 57,
   "metadata": {},
   "outputs": [
    {
     "data": {
      "image/png": "[encoded data removed]",
      "text/plain": [
       "<Figure size 640x480 with 1 Axes>"
      ]
     },
     "metadata": {},
     "output_type": "display_data"
    }
   ],
   "source": [
    "counts = predictions.groupBy('prediction', 'class').count().toPandas()\n",
    "counts = counts.pivot(index='prediction', columns='class', values='count')\n",
    "counts.plot(kind='bar', stacked=True, title='class distribution in k-means clusters')\n",
    "plt.xlabel('Clusters')\n",
    "plt.ylabel('Count')\n",
    "plt.show()"
   ]
  },
  {
   "cell_type": "markdown",
   "metadata": {},
   "source": [
    "# Bisecting k-means"
   ]
  },
  {
   "cell_type": "markdown",
   "metadata": {},
   "source": [
    "Searching best k using elbow method"
   ]
  },
  {
   "cell_type": "code",
   "execution_count": 58,
   "metadata": {},
   "outputs": [
    {
     "name": "stdout",
     "output_type": "stream",
     "text": [
      "\n"
     ]
    },
    {
     "name": "stderr",
     "output_type": "stream",
     "text": [
      "                                                                                \r"
     ]
    },
    {
     "name": "stdout",
     "output_type": "stream",
     "text": [
      "K: 2\n",
      "Silhouette (squared euclidean): 0.6209\n",
      "SSE: 98004.4071\n",
      "\n"
     ]
    },
    {
     "name": "stderr",
     "output_type": "stream",
     "text": [
      "                                                                                \r"
     ]
    },
    {
     "name": "stdout",
     "output_type": "stream",
     "text": [
      "K: 3\n",
      "Silhouette (squared euclidean): 0.3317\n",
      "SSE: 84611.5767\n",
      "\n"
     ]
    },
    {
     "name": "stderr",
     "output_type": "stream",
     "text": [
      "                                                                                \r"
     ]
    },
    {
     "name": "stdout",
     "output_type": "stream",
     "text": [
      "K: 4\n",
      "Silhouette (squared euclidean): 0.4056\n",
      "SSE: 64605.1191\n",
      "\n"
     ]
    },
    {
     "name": "stderr",
     "output_type": "stream",
     "text": [
      "                                                                                \r"
     ]
    },
    {
     "name": "stdout",
     "output_type": "stream",
     "text": [
      "K: 5\n",
      "Silhouette (squared euclidean): 0.3047\n",
      "SSE: 61356.4439\n",
      "\n",
      "K: 6\n",
      "Silhouette (squared euclidean): 0.2628\n",
      "SSE: 58438.1817\n",
      "\n",
      "K: 7\n",
      "Silhouette (squared euclidean): 0.3117\n",
      "SSE: 48131.9982\n",
      "\n"
     ]
    },
    {
     "name": "stderr",
     "output_type": "stream",
     "text": [
      "                                                                                \r"
     ]
    },
    {
     "name": "stdout",
     "output_type": "stream",
     "text": [
      "K: 8\n",
      "Silhouette (squared euclidean): 0.3216\n",
      "SSE: 41209.5108\n",
      "\n"
     ]
    },
    {
     "name": "stderr",
     "output_type": "stream",
     "text": [
      "                                                                                \r"
     ]
    },
    {
     "name": "stdout",
     "output_type": "stream",
     "text": [
      "K: 9\n",
      "Silhouette (squared euclidean): 0.2669\n",
      "SSE: 40319.8821\n",
      "\n",
      "K: 10\n",
      "Silhouette (squared euclidean): 0.2326\n",
      "SSE: 39363.6475\n",
      "\n",
      "K: 11\n",
      "Silhouette (squared euclidean): 0.2438\n",
      "SSE: 35857.1196\n",
      "\n"
     ]
    },
    {
     "name": "stderr",
     "output_type": "stream",
     "text": [
      "                                                                                \r"
     ]
    },
    {
     "name": "stdout",
     "output_type": "stream",
     "text": [
      "K: 12\n",
      "Silhouette (squared euclidean): 0.2488\n",
      "SSE: 34944.6557\n",
      "\n"
     ]
    },
    {
     "name": "stderr",
     "output_type": "stream",
     "text": [
      "                                                                                \r"
     ]
    },
    {
     "name": "stdout",
     "output_type": "stream",
     "text": [
      "K: 13\n",
      "Silhouette (squared euclidean): 0.2589\n",
      "SSE: 33766.8789\n",
      "\n"
     ]
    },
    {
     "name": "stderr",
     "output_type": "stream",
     "text": [
      "                                                                                \r"
     ]
    },
    {
     "name": "stdout",
     "output_type": "stream",
     "text": [
      "K: 14\n",
      "Silhouette (squared euclidean): 0.2556\n",
      "SSE: 30105.5987\n",
      "\n"
     ]
    },
    {
     "name": "stderr",
     "output_type": "stream",
     "text": [
      "                                                                                \r"
     ]
    },
    {
     "name": "stdout",
     "output_type": "stream",
     "text": [
      "K: 15\n",
      "Silhouette (squared euclidean): 0.2565\n",
      "SSE: 28695.4193\n",
      "\n"
     ]
    },
    {
     "name": "stderr",
     "output_type": "stream",
     "text": [
      "                                                                                \r"
     ]
    },
    {
     "name": "stdout",
     "output_type": "stream",
     "text": [
      "K: 16\n",
      "Silhouette (squared euclidean): 0.2613\n",
      "SSE: 26254.6481\n",
      "\n"
     ]
    },
    {
     "name": "stderr",
     "output_type": "stream",
     "text": [
      "                                                                                \r"
     ]
    },
    {
     "name": "stdout",
     "output_type": "stream",
     "text": [
      "K: 17\n",
      "Silhouette (squared euclidean): 0.2258\n",
      "SSE: 25756.5985\n",
      "\n"
     ]
    },
    {
     "name": "stderr",
     "output_type": "stream",
     "text": [
      "                                                                                \r"
     ]
    },
    {
     "name": "stdout",
     "output_type": "stream",
     "text": [
      "K: 18\n",
      "Silhouette (squared euclidean): 0.1894\n",
      "SSE: 25217.2448\n",
      "\n"
     ]
    },
    {
     "name": "stderr",
     "output_type": "stream",
     "text": [
      "                                                                                \r"
     ]
    },
    {
     "name": "stdout",
     "output_type": "stream",
     "text": [
      "K: 19\n",
      "Silhouette (squared euclidean): 0.1892\n",
      "SSE: 24762.7944\n",
      "\n"
     ]
    },
    {
     "name": "stderr",
     "output_type": "stream",
     "text": [
      "                                                                                \r"
     ]
    },
    {
     "name": "stdout",
     "output_type": "stream",
     "text": [
      "K: 20\n",
      "Silhouette (squared euclidean): 0.2359\n",
      "SSE: 23590.4358\n",
      "\n"
     ]
    },
    {
     "name": "stderr",
     "output_type": "stream",
     "text": [
      "                                                                                \r"
     ]
    },
    {
     "name": "stdout",
     "output_type": "stream",
     "text": [
      "K: 21\n",
      "Silhouette (squared euclidean): 0.2608\n",
      "SSE: 20637.8984\n",
      "\n"
     ]
    },
    {
     "name": "stderr",
     "output_type": "stream",
     "text": [
      "                                                                                \r"
     ]
    },
    {
     "name": "stdout",
     "output_type": "stream",
     "text": [
      "K: 22\n",
      "Silhouette (squared euclidean): 0.2719\n",
      "SSE: 20407.4880\n",
      "\n"
     ]
    },
    {
     "name": "stderr",
     "output_type": "stream",
     "text": [
      "                                                                                \r"
     ]
    },
    {
     "name": "stdout",
     "output_type": "stream",
     "text": [
      "K: 23\n",
      "Silhouette (squared euclidean): 0.2548\n",
      "SSE: 20232.8737\n",
      "\n"
     ]
    },
    {
     "name": "stderr",
     "output_type": "stream",
     "text": [
      "                                                                                \r"
     ]
    },
    {
     "name": "stdout",
     "output_type": "stream",
     "text": [
      "K: 24\n",
      "Silhouette (squared euclidean): 0.2366\n",
      "SSE: 20119.8882\n",
      "\n"
     ]
    },
    {
     "name": "stderr",
     "output_type": "stream",
     "text": [
      "                                                                                \r"
     ]
    },
    {
     "name": "stdout",
     "output_type": "stream",
     "text": [
      "K: 25\n",
      "Silhouette (squared euclidean): 0.2504\n",
      "SSE: 18942.0340\n",
      "\n"
     ]
    },
    {
     "name": "stderr",
     "output_type": "stream",
     "text": [
      "                                                                                \r"
     ]
    },
    {
     "name": "stdout",
     "output_type": "stream",
     "text": [
      "K: 26\n",
      "Silhouette (squared euclidean): 0.2592\n",
      "SSE: 18436.1292\n",
      "\n"
     ]
    },
    {
     "name": "stderr",
     "output_type": "stream",
     "text": [
      "                                                                                \r"
     ]
    },
    {
     "name": "stdout",
     "output_type": "stream",
     "text": [
      "K: 27\n",
      "Silhouette (squared euclidean): 0.2658\n",
      "SSE: 18194.3855\n",
      "\n"
     ]
    },
    {
     "name": "stderr",
     "output_type": "stream",
     "text": [
      "                                                                                \r"
     ]
    },
    {
     "name": "stdout",
     "output_type": "stream",
     "text": [
      "K: 28\n",
      "Silhouette (squared euclidean): 0.2698\n",
      "SSE: 17133.3879\n",
      "\n"
     ]
    },
    {
     "name": "stderr",
     "output_type": "stream",
     "text": [
      "                                                                                \r"
     ]
    },
    {
     "name": "stdout",
     "output_type": "stream",
     "text": [
      "K: 29\n",
      "Silhouette (squared euclidean): 0.2660\n",
      "SSE: 16728.6606\n",
      "\n"
     ]
    },
    {
     "name": "stderr",
     "output_type": "stream",
     "text": [
      "[Stage 19758:>                                                      (0 + 1) / 1]\r"
     ]
    },
    {
     "name": "stdout",
     "output_type": "stream",
     "text": [
      "K: 30\n",
      "Silhouette (squared euclidean): 0.2672\n",
      "SSE: 16305.5110\n"
     ]
    },
    {
     "name": "stderr",
     "output_type": "stream",
     "text": [
      "                                                                                \r"
     ]
    },
    {
     "data": {
      "image/png": "[encoded data removed]",
      "text/plain": [
       "<Figure size 640x480 with 1 Axes>"
      ]
     },
     "metadata": {},
     "output_type": "display_data"
    },
    {
     "name": "stdout",
     "output_type": "stream",
     "text": [
      "Elbow at K:8\n"
     ]
    },
    {
     "data": {
      "image/png": "[encoded data removed]",
      "text/plain": [
       "<Figure size 640x480 with 1 Axes>"
      ]
     },
     "metadata": {},
     "output_type": "display_data"
    }
   ],
   "source": [
    "sse_scores = []\n",
    "silhouette_scores = []\n",
    "\n",
    "MAX_K = 31\n",
    "\n",
    "#Trying different k recording sse and silhouette scores\n",
    "\n",
    "for k in range(2,MAX_K):\n",
    "\n",
    "    print('')\n",
    "    bis_kmeans = BisectingKMeans(featuresCol=\"num_attrs_clustering_scaled\", k=k)\n",
    "    model = bis_kmeans.fit(bisecting_kmeans_df)\n",
    "    predictions = model.transform(bisecting_kmeans_df)\n",
    "    silhouette = ClusteringEvaluator(featuresCol=\"num_attrs_clustering_scaled\").evaluate(predictions)\n",
    "    sse = model.summary.trainingCost\n",
    "    \n",
    "    print(f\"K: {k}\")\n",
    "    print(f\"Silhouette (squared euclidean): {silhouette:.4f}\")\n",
    "    print(f\"SSE: {sse:.4f}\")\n",
    "    sse_scores.append(sse)\n",
    "    silhouette_scores.append(silhouette)\n",
    "\n",
    "\n",
    "plt.figure()\n",
    "plt.plot(range(2, MAX_K), sse_scores)\n",
    "plt.xlabel(\"K\")\n",
    "plt.ylabel(\"SSE\")\n",
    "plt.title(\"Elbow Method Score\")\n",
    "plt.show()\n",
    "\n",
    "\n",
    "kl = KneeLocator(range(2, MAX_K), sse_scores, curve=\"convex\", direction=\"decreasing\")\n",
    "print(f\"Elbow at K:{kl.elbow}\")\n",
    "\n",
    "plt.figure()\n",
    "plt.plot(range(2, MAX_K), silhouette_scores)\n",
    "plt.xlabel(\"K\")\n",
    "plt.ylabel(\"Silhouette\")\n",
    "plt.title(\"Silhouette Score\")\n",
    "plt.show()"
   ]
  },
  {
   "cell_type": "markdown",
   "metadata": {},
   "source": [
    "Retraining Bisecting K-means using optimal k"
   ]
  },
  {
   "cell_type": "code",
   "execution_count": 73,
   "metadata": {},
   "outputs": [
    {
     "name": "stdout",
     "output_type": "stream",
     "text": [
      "Silhouette: 0.32155160231379015\n",
      "SSE: 41209.510801381526\n"
     ]
    },
    {
     "name": "stderr",
     "output_type": "stream",
     "text": [
      "                                                                                \r"
     ]
    }
   ],
   "source": [
    "bis_kmeans=BisectingKMeans(featuresCol=\"num_attrs_clustering_scaled\",k=8)\n",
    "\n",
    "bis_model = bis_kmeans.fit(bisecting_kmeans_df)\n",
    "bis_predictions_retrained = bis_model.transform(bisecting_kmeans_df)\n",
    "\n",
    "eval = ClusteringEvaluator(featuresCol=\"num_attrs_clustering_scaled\")\n",
    "bis_silhouette = eval.evaluate(bis_predictions_retrained)\n",
    "\n",
    "print(f\"Silhouette: {bis_silhouette}\")\n",
    "print(f\"SSE: {bis_model.summary.trainingCost}\")"
   ]
  },
  {
   "cell_type": "markdown",
   "metadata": {},
   "source": [
    "Distribution analysis"
   ]
  },
  {
   "cell_type": "code",
   "execution_count": 74,
   "metadata": {},
   "outputs": [
    {
     "data": {
      "image/png": "[encoded data removed]",
      "text/plain": [
       "<Figure size 640x480 with 1 Axes>"
      ]
     },
     "metadata": {},
     "output_type": "display_data"
    }
   ],
   "source": [
    "counts = bis_predictions_retrained.groupBy('prediction', 'class').count().toPandas()\n",
    "counts = counts.pivot(index='prediction', columns='class', values='count')\n",
    "counts.plot(kind='bar', stacked=True, title='class distribution in bisecting k-means clusters')\n",
    "plt.xlabel('Clusters')\n",
    "plt.ylabel('Count')\n",
    "plt.show()"
   ]
  }
 ],
 "metadata": {
  "kernelspec": {
   "display_name": "Python 3",
   "language": "python",
   "name": "python3"
  },
  "language_info": {
   "codemirror_mode": {
    "name": "ipython",
    "version": 3
   },
   "file_extension": ".py",
   "mimetype": "text/x-python",
   "name": "python",
   "nbconvert_exporter": "python",
   "pygments_lexer": "ipython3",
   "version": "3.9.2"
  }
 },
 "nbformat": 4,
 "nbformat_minor": 2
}
